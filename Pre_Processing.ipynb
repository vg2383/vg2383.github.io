{
  "nbformat": 4,
  "nbformat_minor": 0,
  "metadata": {
    "colab": {
      "name": "Pre-Processing.ipynb",
      "version": "0.3.2",
      "provenance": [],
      "include_colab_link": true
    },
    "kernelspec": {
      "name": "python3",
      "display_name": "Python 3"
    }
  },
  "cells": [
    {
      "cell_type": "markdown",
      "metadata": {
        "id": "view-in-github",
        "colab_type": "text"
      },
      "source": [
        "<a href=\"https://colab.research.google.com/github/vg2383/vg2383.github.io/blob/master/Pre_Processing.ipynb\" target=\"_parent\"><img src=\"https://colab.research.google.com/assets/colab-badge.svg\" alt=\"Open In Colab\"/></a>"
      ]
    },
    {
      "cell_type": "code",
      "metadata": {
        "id": "PtXK4JlkhDGq",
        "colab_type": "code",
        "outputId": "a2b3fab9-4886-4856-d09f-658f8919168b",
        "colab": {
          "base_uri": "https://localhost:8080/",
          "height": 122
        }
      },
      "source": [
        "import re\n",
        "from google.colab import drive\n",
        "drive.mount('/content/gdrive')\n",
        "import random"
      ],
      "execution_count": 0,
      "outputs": [
        {
          "output_type": "stream",
          "text": [
            "Go to this URL in a browser: https://accounts.google.com/o/oauth2/auth?client_id=947318989803-6bn6qk8qdgf4n4g3pfee6491hc0brc4i.apps.googleusercontent.com&redirect_uri=urn%3Aietf%3Awg%3Aoauth%3A2.0%3Aoob&scope=email%20https%3A%2F%2Fwww.googleapis.com%2Fauth%2Fdocs.test%20https%3A%2F%2Fwww.googleapis.com%2Fauth%2Fdrive%20https%3A%2F%2Fwww.googleapis.com%2Fauth%2Fdrive.photos.readonly%20https%3A%2F%2Fwww.googleapis.com%2Fauth%2Fpeopleapi.readonly&response_type=code\n",
            "\n",
            "Enter your authorization code:\n",
            "··········\n",
            "Mounted at /content/gdrive\n"
          ],
          "name": "stdout"
        }
      ]
    },
    {
      "cell_type": "code",
      "metadata": {
        "id": "yKkQiQaGhJfa",
        "colab_type": "code",
        "colab": {}
      },
      "source": [
        "#!cp -r '/content/gdrive/My Drive/Data Analytics' Random\n",
        "#All the files from the Data Analytics Drive are now in Random which we can access"
      ],
      "execution_count": 0,
      "outputs": []
    },
    {
      "cell_type": "code",
      "metadata": {
        "id": "4JlhMDz1oN3G",
        "colab_type": "code",
        "outputId": "4e4320e7-c2e9-4657-a9df-51cd76fad754",
        "colab": {
          "base_uri": "https://localhost:8080/",
          "height": 105
        }
      },
      "source": [
        "regex = re.compile(r'(?<!\\w\\.\\w.)(?<![A-Z][a-z]\\.)(?<=\\.|\\?)\\s')\n",
        "text = \"1 Mr. Smith bought cheapsite.com for 1.5 million dollars, i.e. he paid a lot for it. Did he mind? Adam Jones Jr. thinks he didn't. Data analytics pipeline. This class is fucking stupid. In any case, this isn't true... Well, with a probability of .9 it isn't.\"\n",
        "output = regex.split(text)\n",
        "x_train = []\n",
        "y_train = []\n",
        "x_valid = []\n",
        "y_valid = []\n",
        "x_test = []\n",
        "y_test = []\n",
        "print(len(output))\n",
        "lim = int(.67*len(output))\n",
        "random.shuffle(output)\n",
        "for string in output[:lim]:\n",
        "  x_train.append(string)\n",
        "\n",
        "for string in output[lim:int(lim+(1/6)*len(output))]:\n",
        "  x_valid.append(string)\n",
        "\n",
        "lim += (1/6)*len(output)\n",
        "for string in output[int(lim):]:\n",
        "  x_test.append(string)\n",
        "  \n",
        "print(x_train)\n",
        "print(x_valid)\n",
        "print(x_test)"
      ],
      "execution_count": 0,
      "outputs": [
        {
          "output_type": "stream",
          "text": [
            "7\n",
            "[\"In any case, this isn't true...\", '1 Mr. Smith bought cheapsite.com for 1.5 million dollars, i.e. he paid a lot for it.', 'Did he mind?', \"Well, with a probability of .9 it isn't.\"]\n",
            "[\"Adam Jones Jr. thinks he didn't.\"]\n",
            "['This class is fucking stupid.', 'Data analytics pipeline.']\n"
          ],
          "name": "stdout"
        }
      ]
    },
    {
      "cell_type": "code",
      "metadata": {
        "id": "8D4WBh3W_4px",
        "colab_type": "code",
        "colab": {}
      },
      "source": [
        ""
      ],
      "execution_count": 0,
      "outputs": []
    }
  ]
}